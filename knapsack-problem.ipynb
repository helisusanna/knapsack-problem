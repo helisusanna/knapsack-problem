{
 "cells": [
  {
   "cell_type": "code",
   "execution_count": 1,
   "metadata": {},
   "outputs": [
    {
     "name": "stdout",
     "output_type": "stream",
     "text": [
      "Repun objektit: {'Osuus vapaa-ajan mökistä', 'Huonekalut', 'Työasemat'}\n",
      "Repun kokonaishyöty: 13500\n",
      "Repun kokonaispaino (kustannus): 138400\n"
     ]
    }
   ],
   "source": [
    "# Knapsack problem\n",
    "import queue as Q\n",
    "hh_Q = Q.PriorityQueue()\n",
    "\n",
    "# objektit ja niiden ominaisuudet joukossa S={(a, b, c),..(..)}\n",
    "# a on objektin nimi\n",
    "# b on objektin hyötyluku\n",
    "# c on objektin paino (kustannus)\n",
    "hh_S={('Työasemat',6600,58400),\n",
    "  ('Huonekalut',3700,30000),\n",
    "  ('Mobiililaitteet',5700,58400),\n",
    "  ('Osuus vapaa-ajan mökistä',3200,50000)}\n",
    "# B on kokonaisbudjetti\n",
    "hh_B = 141700\n",
    "\n",
    "def Yreppu(hh_S, hh_B):\n",
    "    hh_Reppu = set() # joukko Reppu, johon lisätään objektien nimet\n",
    "    hh_H_list = [] # lista, johon lisätään reppuun lisättävien objektien hyötyluvut\n",
    "    hh_K_list = [] # lista, johon lisätään reppuun lisättävien objektien painoluvut / kustannusluvut\n",
    "    \n",
    "    # käydään joukko S läpi ja lasketaan objektien suhdeluvut \n",
    "    # Si[b] / Si[c] (objektin hyötyluku jaettuna painoluvulla)\n",
    "    for i in hh_S:\n",
    "        # lisätään suhdeluvut prioriteettijonoon Q negatiivisena,\n",
    "        # jotta saadaan isoin luku (positiivisena) jonon ensimmäiseksi, toinen arvo on objektin nimi\n",
    "        hh_Q.put((-i[1]/i[2],i[0]))\n",
    "    \n",
    "    # käydään prioriteettijono läpi\n",
    "    # kun jonosta otetaan arvo, se poistuu jonosta. joten toistetaan tätä kunnes jono on tyhjä\n",
    "    while not hh_Q.empty():\n",
    "        object_name = hh_Q.get()[1] # jonon ensimmäisen objektin nimi\n",
    "        for i in hh_S:\n",
    "            if object_name in i: # jos objektin nimi on jossakin joukon S tuplassa\n",
    "                hh_K = sum(hh_K_list) + i[2] # lasketaan uusi kokonaispaino (kustannus)\n",
    "                if hh_K <= hh_B: # jos uusi kokonaispaino, eli kustannus, ei ylitä budjettia\n",
    "                    #x = 1, esimerkin vuoksi, boolean-muuttuja x on true objektin kohdalla\n",
    "                    hh_Reppu.add(i[0]) # lisätään objekti reppuun\n",
    "                    hh_K_list.append(i[2]) # lisätään painoluku listaan, jonka summaa käytetään taas seuraavalla kierroksella\n",
    "                    hh_H_list.append(i[1]) # lisätään hyötyluku sille varattuun listaan\n",
    "               #else:\n",
    "                     #x = 0, esimerkin vuoksi, boolean-muuttuja x on false objektin kohdalla, jos budjetti ylittyy\n",
    "    hh_K = sum(hh_K_list)\n",
    "    hh_H = sum(hh_H_list)\n",
    "    print(\"Repun objektit:\",hh_Reppu)\n",
    "    print(\"Repun kokonaishyöty:\",hh_H)\n",
    "    print(\"Repun kokonaispaino (kustannus):\",hh_K)\n",
    "Yreppu(hh_S, hh_B)"
   ]
  },
  {
   "cell_type": "code",
   "execution_count": null,
   "metadata": {},
   "outputs": [],
   "source": []
  }
 ],
 "metadata": {
  "kernelspec": {
   "display_name": "Python 3",
   "language": "python",
   "name": "python3"
  },
  "language_info": {
   "codemirror_mode": {
    "name": "ipython",
    "version": 3
   },
   "file_extension": ".py",
   "mimetype": "text/x-python",
   "name": "python",
   "nbconvert_exporter": "python",
   "pygments_lexer": "ipython3",
   "version": "3.8.5"
  }
 },
 "nbformat": 4,
 "nbformat_minor": 4
}
